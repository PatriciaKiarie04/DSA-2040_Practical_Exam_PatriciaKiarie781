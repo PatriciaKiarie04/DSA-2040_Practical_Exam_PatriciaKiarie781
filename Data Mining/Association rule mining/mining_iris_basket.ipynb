{
 "cells": [
  {
   "cell_type": "code",
   "execution_count": 1,
   "id": "22db8a55",
   "metadata": {},
   "outputs": [
    {
     "name": "stdout",
     "output_type": "stream",
     "text": [
      "Sample transactions:\n",
      "[['rice', 'palm_oil', 'tomato_paste', 'pure_water', 'wheat_flour', 'pineapples', 'cooking_oil', 'apples'], ['rice', 'body_lotion', 'tomato_paste', 'wheat_flour', 'pineapples', 'cooking_oil', 'coca_cola'], ['body_lotion', 'indomie', 'mangoes', 'cooking_oil', 'watermelon', 'apples', 'bananas']]\n",
      "\n",
      "Top association rules (by lift):\n",
      "    antecedents     consequents  antecedent support  consequent support  \\\n",
      "0      (apples)          (rice)                0.34                0.42   \n",
      "2        (rice)  (tomato_paste)                0.42                0.54   \n",
      "1    (palm_oil)  (tomato_paste)                0.38                0.54   \n",
      "3  (watermelon)  (tomato_paste)                0.38                0.54   \n",
      "\n",
      "   support  confidence      lift  representativity  leverage  conviction  \\\n",
      "0     0.20    0.588235  1.400560               1.0    0.0572    1.408571   \n",
      "2     0.26    0.619048  1.146384               1.0    0.0332    1.207500   \n",
      "1     0.20    0.526316  0.974659               1.0   -0.0052    0.971111   \n",
      "3     0.20    0.526316  0.974659               1.0   -0.0052    0.971111   \n",
      "\n",
      "   zhangs_metric   jaccard  certainty  kulczynski  \n",
      "0       0.433333  0.357143   0.290061    0.532213  \n",
      "2       0.220159  0.371429   0.171843    0.550265  \n",
      "1      -0.040248  0.277778  -0.029748    0.448343  \n",
      "3      -0.040248  0.277778  -0.029748    0.448343  \n"
     ]
    }
   ],
   "source": [
    "import random\n",
    "import pandas as pd\n",
    "from mlxtend.preprocessing import TransactionEncoder\n",
    "from mlxtend.frequent_patterns import apriori, association_rules\n",
    "\n",
    "# Define item list\n",
    "item_pool = [\n",
    "    'cooking_oil', 'wheat_flour', 'rice', 'tomato_paste',\n",
    "    'plantain_chips', 'oranges', 'bananas', 'apples',\n",
    "    'palm_oil', 'indomie', 'groundnut', 'pure_water',\n",
    "    'detergent', 'body_lotion', 'matches', 'mangoes',\n",
    "    'pineapples', 'watermelon', 'coca_cola', 'fanta'\n",
    "]\n",
    "\n",
    "# Generate transaction data\n",
    "random.seed(42)\n",
    "transactions = []\n",
    "for _ in range(50):\n",
    "    basket = random.sample(item_pool, k=random.randint(3, 8))\n",
    "    \n",
    "    # Natural item pairings\n",
    "    if 'rice' in basket and random.random() > 0.3:\n",
    "        basket.append('tomato_paste')\n",
    "    if 'indomie' in basket and random.random() > 0.4:\n",
    "        basket.append('eggs')\n",
    "    \n",
    "    transactions.append(list(set(basket)))\n",
    "\n",
    "# Convert to one-hot encoding\n",
    "te = TransactionEncoder()\n",
    "te_ary = te.fit(transactions).transform(transactions)\n",
    "df = pd.DataFrame(te_ary, columns=te.columns_)\n",
    "\n",
    "# Mine association rules\n",
    "frequent_itemsets = apriori(df, min_support=0.2, use_colnames=True)\n",
    "rules = association_rules(frequent_itemsets, metric=\"confidence\", min_threshold=0.5)\n",
    "\n",
    "# Display results\n",
    "print(\"Sample transactions:\")\n",
    "print(transactions[:3])\n",
    "print(\"\\nTop association rules (by lift):\")\n",
    "print(rules.sort_values('lift', ascending=False).head(5))"
   ]
  }
 ],
 "metadata": {
  "kernelspec": {
   "display_name": "Python 3",
   "language": "python",
   "name": "python3"
  },
  "language_info": {
   "codemirror_mode": {
    "name": "ipython",
    "version": 3
   },
   "file_extension": ".py",
   "mimetype": "text/x-python",
   "name": "python",
   "nbconvert_exporter": "python",
   "pygments_lexer": "ipython3",
   "version": "3.12.6"
  }
 },
 "nbformat": 4,
 "nbformat_minor": 5
}
